{
  "nbformat": 4,
  "nbformat_minor": 0,
  "metadata": {
    "kernelspec": {
      "display_name": "Python 3",
      "language": "python",
      "name": "python3"
    },
    "language_info": {
      "codemirror_mode": {
        "name": "ipython",
        "version": 3
      },
      "file_extension": ".py",
      "mimetype": "text/x-python",
      "name": "python",
      "nbconvert_exporter": "python",
      "pygments_lexer": "ipython3",
      "version": "3.8.5"
    },
    "colab": {
      "name": "PreProcessing.ipynb",
      "provenance": [],
      "collapsed_sections": [],
      "toc_visible": true,
      "include_colab_link": true
    }
  },
  "cells": [
    {
      "cell_type": "markdown",
      "metadata": {
        "id": "view-in-github",
        "colab_type": "text"
      },
      "source": [
        "<a href=\"https://colab.research.google.com/github/vohieu00/TrafficCollisionAnalysis/blob/dev/PreProcessing.ipynb\" target=\"_parent\"><img src=\"https://colab.research.google.com/assets/colab-badge.svg\" alt=\"Open In Colab\"/></a>"
      ]
    },
    {
      "cell_type": "markdown",
      "metadata": {
        "id": "QywfsqCBSDAW"
      },
      "source": [
        "# **Đọc và tiền xử lý dữ liệu**"
      ]
    },
    {
      "cell_type": "code",
      "metadata": {
        "id": "NKaKOSX8wTVC"
      },
      "source": [
        "import pandas as pd\n",
        "import numpy as np\n",
        "from sklearn.impute import SimpleImputer\n",
        "from sklearn.compose import ColumnTransformer\n",
        "from sklearn.pipeline import Pipeline\n",
        "from datetime import datetime\n",
        "import matplotlib.pyplot as plt"
      ],
      "execution_count": 1,
      "outputs": []
    },
    {
      "cell_type": "code",
      "metadata": {
        "colab": {
          "base_uri": "https://localhost:8080/"
        },
        "id": "HgCDPbeUwWBX",
        "outputId": "5140643a-4927-403d-cba0-629da0057fdc"
      },
      "source": [
        "from google.colab import drive\n",
        "drive.mount('/content/drive')"
      ],
      "execution_count": 2,
      "outputs": [
        {
          "output_type": "stream",
          "text": [
            "Drive already mounted at /content/drive; to attempt to forcibly remount, call drive.mount(\"/content/drive\", force_remount=True).\n"
          ],
          "name": "stdout"
        }
      ]
    },
    {
      "cell_type": "code",
      "metadata": {
        "id": "aO-Fi08EwTVJ"
      },
      "source": [
        "path = \"/content/drive/MyDrive/Colab Notebooks/PTDL_LabCK/data/road_traffic_collisions/road-traffic-collisions-\""
      ],
      "execution_count": 3,
      "outputs": []
    },
    {
      "cell_type": "code",
      "metadata": {
        "colab": {
          "base_uri": "https://localhost:8080/"
        },
        "id": "AZBegEXPwTVJ",
        "outputId": "b33c0494-c246-4ad3-be0a-7aeb05a1cf0d"
      },
      "source": [
        "data = 5*[None]\n",
        "times = [\"2012-5\",\"2013-6\", \"2014-3\", \"2015-4\", \"2016-2\"]\n",
        "for i in range(5):\n",
        "    i_path = path+times[i]+\".xls\"\n",
        "    print(i_path)\n",
        "    data[i] = pd.read_excel(i_path)"
      ],
      "execution_count": 4,
      "outputs": [
        {
          "output_type": "stream",
          "text": [
            "/content/drive/MyDrive/Colab Notebooks/PTDL_LabCK/data/road_traffic_collisions/road-traffic-collisions-2012-5.xls\n",
            "/content/drive/MyDrive/Colab Notebooks/PTDL_LabCK/data/road_traffic_collisions/road-traffic-collisions-2013-6.xls\n",
            "/content/drive/MyDrive/Colab Notebooks/PTDL_LabCK/data/road_traffic_collisions/road-traffic-collisions-2014-3.xls\n",
            "/content/drive/MyDrive/Colab Notebooks/PTDL_LabCK/data/road_traffic_collisions/road-traffic-collisions-2015-4.xls\n",
            "/content/drive/MyDrive/Colab Notebooks/PTDL_LabCK/data/road_traffic_collisions/road-traffic-collisions-2016-2.xls\n"
          ],
          "name": "stdout"
        }
      ]
    },
    {
      "cell_type": "code",
      "metadata": {
        "colab": {
          "base_uri": "https://localhost:8080/",
          "height": 411
        },
        "id": "_2vnuSkswTVK",
        "outputId": "f12d4aa5-f814-4095-f938-1489d0be74b8"
      },
      "source": [
        "df = data[0]\n",
        "\n",
        "for i in range(1, len(data)):\n",
        "    df = pd.concat([df, data[i]])\n",
        "\n",
        "df.head()    "
      ],
      "execution_count": 5,
      "outputs": [
        {
          "output_type": "execute_result",
          "data": {
            "text/html": [
              "<div>\n",
              "<style scoped>\n",
              "    .dataframe tbody tr th:only-of-type {\n",
              "        vertical-align: middle;\n",
              "    }\n",
              "\n",
              "    .dataframe tbody tr th {\n",
              "        vertical-align: top;\n",
              "    }\n",
              "\n",
              "    .dataframe thead th {\n",
              "        text-align: right;\n",
              "    }\n",
              "</style>\n",
              "<table border=\"1\" class=\"dataframe\">\n",
              "  <thead>\n",
              "    <tr style=\"text-align: right;\">\n",
              "      <th></th>\n",
              "      <th>Reference</th>\n",
              "      <th>Date</th>\n",
              "      <th>Year</th>\n",
              "      <th>Month</th>\n",
              "      <th>Day</th>\n",
              "      <th>Day.1</th>\n",
              "      <th>Time</th>\n",
              "      <th>Severity</th>\n",
              "      <th>Road_Class</th>\n",
              "      <th>Main_rd_no</th>\n",
              "      <th>Junction Detail</th>\n",
              "      <th>Light</th>\n",
              "      <th>Weather</th>\n",
              "      <th>Surface</th>\n",
              "      <th>Speed_limit</th>\n",
              "      <th>Cycle</th>\n",
              "      <th>TWMV</th>\n",
              "      <th>Child</th>\n",
              "      <th>Child_Pedestrian</th>\n",
              "      <th>Ped</th>\n",
              "      <th>Skid</th>\n",
              "      <th>HGV</th>\n",
              "      <th>LGV</th>\n",
              "      <th>PSV</th>\n",
              "      <th>School Journey</th>\n",
              "      <th>Unnamed: 25</th>\n",
              "      <th>Pedestrian-1_Sex</th>\n",
              "      <th>Pedestrian_1_Age</th>\n",
              "      <th>Pedestrian_1_Severity</th>\n",
              "      <th>Pedestria_1_Location</th>\n",
              "      <th>Pedestrian-1_Movement</th>\n",
              "      <th>Pedestrian_1_Mov_To</th>\n",
              "      <th>Location</th>\n",
              "      <th>Number_Vehicles</th>\n",
              "      <th>Vehicle_1_Type</th>\n",
              "      <th>Vehicle_1_Manouvres</th>\n",
              "      <th>Vehicle_1_From_Direction</th>\n",
              "      <th>Vehicle_1_To_Direction</th>\n",
              "      <th>Vehicle_1_Location</th>\n",
              "      <th>Vehicle_1_Skidding</th>\n",
              "      <th>Vehicle_2_Type</th>\n",
              "      <th>Vehicle_2_Manouvres</th>\n",
              "      <th>Vehicle_2_From_Direction</th>\n",
              "      <th>Vehicle_2_To_Direction</th>\n",
              "      <th>Vehicle_2_Location</th>\n",
              "      <th>Vehicle_ 2_Skidding</th>\n",
              "      <th>Vehicle_3_Type</th>\n",
              "      <th>V3_Manouvres</th>\n",
              "      <th>V3_From_Direction</th>\n",
              "      <th>V3_To_Direction</th>\n",
              "      <th>V3_Location</th>\n",
              "      <th>V3_Skidding</th>\n",
              "      <th>Easting</th>\n",
              "      <th>Northing</th>\n",
              "    </tr>\n",
              "  </thead>\n",
              "  <tbody>\n",
              "    <tr>\n",
              "      <th>0</th>\n",
              "      <td>2412</td>\n",
              "      <td>20120103</td>\n",
              "      <td>2012</td>\n",
              "      <td>1</td>\n",
              "      <td>3</td>\n",
              "      <td>Tuesday</td>\n",
              "      <td>1140</td>\n",
              "      <td>Slight</td>\n",
              "      <td>A</td>\n",
              "      <td>1198</td>\n",
              "      <td>'T'/staggered junctn</td>\n",
              "      <td>Day</td>\n",
              "      <td>Raining &amp; windy</td>\n",
              "      <td>Wet/damp</td>\n",
              "      <td>60</td>\n",
              "      <td>N</td>\n",
              "      <td>N</td>\n",
              "      <td>N</td>\n",
              "      <td>N</td>\n",
              "      <td>N</td>\n",
              "      <td>Y</td>\n",
              "      <td>N</td>\n",
              "      <td>N</td>\n",
              "      <td>N</td>\n",
              "      <td>N</td>\n",
              "      <td>0</td>\n",
              "      <td>NaN</td>\n",
              "      <td>0</td>\n",
              "      <td>NaN</td>\n",
              "      <td>NaN</td>\n",
              "      <td>NaN</td>\n",
              "      <td>NaN</td>\n",
              "      <td>A1198 JUNCTION LONDON RD GODMANCHESTER</td>\n",
              "      <td>2</td>\n",
              "      <td>Car</td>\n",
              "      <td>Moving off</td>\n",
              "      <td>W</td>\n",
              "      <td>E</td>\n",
              "      <td>Entering main road</td>\n",
              "      <td>Did not skid</td>\n",
              "      <td>Car</td>\n",
              "      <td>Going ahead</td>\n",
              "      <td>SE</td>\n",
              "      <td>N</td>\n",
              "      <td>Approaching jnctn or waiting/parked</td>\n",
              "      <td>Skidded</td>\n",
              "      <td>NaN</td>\n",
              "      <td>NaN</td>\n",
              "      <td>NaN</td>\n",
              "      <td>NaN</td>\n",
              "      <td>NaN</td>\n",
              "      <td>NaN</td>\n",
              "      <td>525250.3192</td>\n",
              "      <td>269592.7491</td>\n",
              "    </tr>\n",
              "    <tr>\n",
              "      <th>1</th>\n",
              "      <td>2612</td>\n",
              "      <td>20120103</td>\n",
              "      <td>2012</td>\n",
              "      <td>1</td>\n",
              "      <td>3</td>\n",
              "      <td>Tuesday</td>\n",
              "      <td>1244</td>\n",
              "      <td>Slight</td>\n",
              "      <td>A</td>\n",
              "      <td>505</td>\n",
              "      <td>Not at junction</td>\n",
              "      <td>Day</td>\n",
              "      <td>Fine (no wind)</td>\n",
              "      <td>Wet/damp</td>\n",
              "      <td>50</td>\n",
              "      <td>N</td>\n",
              "      <td>N</td>\n",
              "      <td>N</td>\n",
              "      <td>N</td>\n",
              "      <td>N</td>\n",
              "      <td>N</td>\n",
              "      <td>Y</td>\n",
              "      <td>N</td>\n",
              "      <td>N</td>\n",
              "      <td>N</td>\n",
              "      <td>0</td>\n",
              "      <td>NaN</td>\n",
              "      <td>0</td>\n",
              "      <td>NaN</td>\n",
              "      <td>NaN</td>\n",
              "      <td>NaN</td>\n",
              "      <td>NaN</td>\n",
              "      <td>A505 50M EAST OF M11 AT LAYBY</td>\n",
              "      <td>2</td>\n",
              "      <td>Car</td>\n",
              "      <td>Going ahead</td>\n",
              "      <td>NE</td>\n",
              "      <td>SW</td>\n",
              "      <td>Not at,or within 20m of, junction</td>\n",
              "      <td>Did not skid</td>\n",
              "      <td>GV &gt;= 7.5t mgw</td>\n",
              "      <td>Parked</td>\n",
              "      <td>Parked</td>\n",
              "      <td>Parked</td>\n",
              "      <td>Not at,or within 20m of, junction</td>\n",
              "      <td>Did not skid</td>\n",
              "      <td>NaN</td>\n",
              "      <td>NaN</td>\n",
              "      <td>NaN</td>\n",
              "      <td>NaN</td>\n",
              "      <td>NaN</td>\n",
              "      <td>NaN</td>\n",
              "      <td>546715.1485</td>\n",
              "      <td>246747.0387</td>\n",
              "    </tr>\n",
              "    <tr>\n",
              "      <th>2</th>\n",
              "      <td>2712</td>\n",
              "      <td>20120103</td>\n",
              "      <td>2012</td>\n",
              "      <td>1</td>\n",
              "      <td>3</td>\n",
              "      <td>Tuesday</td>\n",
              "      <td>1317</td>\n",
              "      <td>Serious</td>\n",
              "      <td>A</td>\n",
              "      <td>1</td>\n",
              "      <td>Not at junction</td>\n",
              "      <td>Day</td>\n",
              "      <td>Fine &amp; windy</td>\n",
              "      <td>Wet/damp</td>\n",
              "      <td>70</td>\n",
              "      <td>N</td>\n",
              "      <td>N</td>\n",
              "      <td>Y</td>\n",
              "      <td>N</td>\n",
              "      <td>N</td>\n",
              "      <td>Y</td>\n",
              "      <td>N</td>\n",
              "      <td>N</td>\n",
              "      <td>N</td>\n",
              "      <td>N</td>\n",
              "      <td>0</td>\n",
              "      <td>NaN</td>\n",
              "      <td>0</td>\n",
              "      <td>NaN</td>\n",
              "      <td>NaN</td>\n",
              "      <td>NaN</td>\n",
              "      <td>NaN</td>\n",
              "      <td>A1 NORTHBOUND SOUTHOE 50M NORTH BELL LANE</td>\n",
              "      <td>1</td>\n",
              "      <td>Car</td>\n",
              "      <td>Going ahead right hand bend</td>\n",
              "      <td>SE</td>\n",
              "      <td>N</td>\n",
              "      <td>Not at,or within 20m of, junction</td>\n",
              "      <td>Skidded</td>\n",
              "      <td>NaN</td>\n",
              "      <td>NaN</td>\n",
              "      <td>NaN</td>\n",
              "      <td>NaN</td>\n",
              "      <td>NaN</td>\n",
              "      <td>NaN</td>\n",
              "      <td>NaN</td>\n",
              "      <td>NaN</td>\n",
              "      <td>NaN</td>\n",
              "      <td>NaN</td>\n",
              "      <td>NaN</td>\n",
              "      <td>NaN</td>\n",
              "      <td>518665.2610</td>\n",
              "      <td>264848.0873</td>\n",
              "    </tr>\n",
              "    <tr>\n",
              "      <th>3</th>\n",
              "      <td>2912</td>\n",
              "      <td>20121221</td>\n",
              "      <td>2012</td>\n",
              "      <td>12</td>\n",
              "      <td>21</td>\n",
              "      <td>Friday</td>\n",
              "      <td>15</td>\n",
              "      <td>Serious</td>\n",
              "      <td>U</td>\n",
              "      <td>0</td>\n",
              "      <td>'T'/staggered junctn</td>\n",
              "      <td>Dark</td>\n",
              "      <td>Fine (no wind)</td>\n",
              "      <td>Dry</td>\n",
              "      <td>30</td>\n",
              "      <td>Y</td>\n",
              "      <td>N</td>\n",
              "      <td>N</td>\n",
              "      <td>N</td>\n",
              "      <td>N</td>\n",
              "      <td>N</td>\n",
              "      <td>N</td>\n",
              "      <td>N</td>\n",
              "      <td>N</td>\n",
              "      <td>N</td>\n",
              "      <td>0</td>\n",
              "      <td>NaN</td>\n",
              "      <td>0</td>\n",
              "      <td>NaN</td>\n",
              "      <td>NaN</td>\n",
              "      <td>NaN</td>\n",
              "      <td>NaN</td>\n",
              "      <td>PARK RD JUNCTION PRINCES ST PETERBOROUGH</td>\n",
              "      <td>2</td>\n",
              "      <td>Car</td>\n",
              "      <td>Moving off</td>\n",
              "      <td>NW</td>\n",
              "      <td>SE</td>\n",
              "      <td>Entering main road</td>\n",
              "      <td>Did not skid</td>\n",
              "      <td>Pedal cycle</td>\n",
              "      <td>Going ahead</td>\n",
              "      <td>S</td>\n",
              "      <td>N</td>\n",
              "      <td>Mid jnctn - on rbout or main road</td>\n",
              "      <td>Did not skid</td>\n",
              "      <td>NaN</td>\n",
              "      <td>NaN</td>\n",
              "      <td>NaN</td>\n",
              "      <td>NaN</td>\n",
              "      <td>NaN</td>\n",
              "      <td>NaN</td>\n",
              "      <td>519514.8238</td>\n",
              "      <td>299836.2220</td>\n",
              "    </tr>\n",
              "    <tr>\n",
              "      <th>4</th>\n",
              "      <td>3112</td>\n",
              "      <td>20120103</td>\n",
              "      <td>2012</td>\n",
              "      <td>1</td>\n",
              "      <td>3</td>\n",
              "      <td>Tuesday</td>\n",
              "      <td>1745</td>\n",
              "      <td>Slight</td>\n",
              "      <td>U</td>\n",
              "      <td>0</td>\n",
              "      <td>Not at junction</td>\n",
              "      <td>Dark</td>\n",
              "      <td>Fine &amp; windy</td>\n",
              "      <td>Dry</td>\n",
              "      <td>30</td>\n",
              "      <td>Y</td>\n",
              "      <td>N</td>\n",
              "      <td>N</td>\n",
              "      <td>N</td>\n",
              "      <td>N</td>\n",
              "      <td>N</td>\n",
              "      <td>N</td>\n",
              "      <td>N</td>\n",
              "      <td>N</td>\n",
              "      <td>N</td>\n",
              "      <td>0</td>\n",
              "      <td>NaN</td>\n",
              "      <td>0</td>\n",
              "      <td>NaN</td>\n",
              "      <td>NaN</td>\n",
              "      <td>NaN</td>\n",
              "      <td>NaN</td>\n",
              "      <td>BADGENEY RD 50M EAST OF ELWYN RD MARCH</td>\n",
              "      <td>1</td>\n",
              "      <td>Pedal cycle</td>\n",
              "      <td>Going ahead</td>\n",
              "      <td>NE</td>\n",
              "      <td>SW</td>\n",
              "      <td>Not at,or within 20m of, junction</td>\n",
              "      <td>Did not skid</td>\n",
              "      <td>NaN</td>\n",
              "      <td>NaN</td>\n",
              "      <td>NaN</td>\n",
              "      <td>NaN</td>\n",
              "      <td>NaN</td>\n",
              "      <td>NaN</td>\n",
              "      <td>NaN</td>\n",
              "      <td>NaN</td>\n",
              "      <td>NaN</td>\n",
              "      <td>NaN</td>\n",
              "      <td>NaN</td>\n",
              "      <td>NaN</td>\n",
              "      <td>542037.4532</td>\n",
              "      <td>296531.1881</td>\n",
              "    </tr>\n",
              "  </tbody>\n",
              "</table>\n",
              "</div>"
            ],
            "text/plain": [
              "   Reference      Date  Year  ...  V3_Skidding      Easting     Northing\n",
              "0       2412  20120103  2012  ...          NaN  525250.3192  269592.7491\n",
              "1       2612  20120103  2012  ...          NaN  546715.1485  246747.0387\n",
              "2       2712  20120103  2012  ...          NaN  518665.2610  264848.0873\n",
              "3       2912  20121221  2012  ...          NaN  519514.8238  299836.2220\n",
              "4       3112  20120103  2012  ...          NaN  542037.4532  296531.1881\n",
              "\n",
              "[5 rows x 54 columns]"
            ]
          },
          "metadata": {
            "tags": []
          },
          "execution_count": 5
        }
      ]
    },
    {
      "cell_type": "code",
      "metadata": {
        "colab": {
          "base_uri": "https://localhost:8080/"
        },
        "id": "x1H21aEBW5GY",
        "outputId": "3049f446-de09-4b7a-c47d-431bdc4a7970"
      },
      "source": [
        "df.info()"
      ],
      "execution_count": 6,
      "outputs": [
        {
          "output_type": "stream",
          "text": [
            "<class 'pandas.core.frame.DataFrame'>\n",
            "Int64Index: 10527 entries, 0 to 2124\n",
            "Data columns (total 54 columns):\n",
            " #   Column                    Non-Null Count  Dtype  \n",
            "---  ------                    --------------  -----  \n",
            " 0   Reference                 10527 non-null  int64  \n",
            " 1   Date                      10527 non-null  int64  \n",
            " 2   Year                      10527 non-null  int64  \n",
            " 3   Month                     10527 non-null  int64  \n",
            " 4   Day                       10527 non-null  int64  \n",
            " 5   Day.1                     10527 non-null  object \n",
            " 6   Time                      10527 non-null  int64  \n",
            " 7   Severity                  10527 non-null  object \n",
            " 8   Road_Class                10527 non-null  object \n",
            " 9   Main_rd_no                10527 non-null  int64  \n",
            " 10  Junction Detail           10527 non-null  object \n",
            " 11  Light                     10527 non-null  object \n",
            " 12  Weather                   10527 non-null  object \n",
            " 13  Surface                   10527 non-null  object \n",
            " 14  Speed_limit               10527 non-null  int64  \n",
            " 15  Cycle                     10527 non-null  object \n",
            " 16  TWMV                      10527 non-null  object \n",
            " 17  Child                     10527 non-null  object \n",
            " 18  Child_Pedestrian          10527 non-null  object \n",
            " 19  Ped                       10527 non-null  object \n",
            " 20  Skid                      10527 non-null  object \n",
            " 21  HGV                       10527 non-null  object \n",
            " 22  LGV                       10527 non-null  object \n",
            " 23  PSV                       10527 non-null  object \n",
            " 24  School Journey            10527 non-null  object \n",
            " 25  Unnamed: 25               10527 non-null  int64  \n",
            " 26  Pedestrian-1_Sex          962 non-null    object \n",
            " 27  Pedestrian_1_Age          10527 non-null  int64  \n",
            " 28  Pedestrian_1_Severity     962 non-null    object \n",
            " 29  Pedestria_1_Location      957 non-null    object \n",
            " 30  Pedestrian-1_Movement     958 non-null    object \n",
            " 31  Pedestrian_1_Mov_To       962 non-null    object \n",
            " 32  Location                  10527 non-null  object \n",
            " 33  Number_Vehicles           10527 non-null  int64  \n",
            " 34  Vehicle_1_Type            10524 non-null  object \n",
            " 35  Vehicle_1_Manouvres       10525 non-null  object \n",
            " 36  Vehicle_1_From_Direction  10520 non-null  object \n",
            " 37  Vehicle_1_To_Direction    10520 non-null  object \n",
            " 38  Vehicle_1_Location        10525 non-null  object \n",
            " 39  Vehicle_1_Skidding        10525 non-null  object \n",
            " 40  Vehicle_2_Type            7840 non-null   object \n",
            " 41  Vehicle_2_Manouvres       7839 non-null   object \n",
            " 42  Vehicle_2_From_Direction  7837 non-null   object \n",
            " 43  Vehicle_2_To_Direction    7837 non-null   object \n",
            " 44  Vehicle_2_Location        7841 non-null   object \n",
            " 45  Vehicle_ 2_Skidding       7841 non-null   object \n",
            " 46  Vehicle_3_Type            1083 non-null   object \n",
            " 47  V3_Manouvres              1083 non-null   object \n",
            " 48  V3_From_Direction         1082 non-null   object \n",
            " 49  V3_To_Direction           1082 non-null   object \n",
            " 50  V3_Location               1083 non-null   object \n",
            " 51  V3_Skidding               1083 non-null   object \n",
            " 52  Easting                   10527 non-null  float64\n",
            " 53  Northing                  10527 non-null  float64\n",
            "dtypes: float64(2), int64(11), object(41)\n",
            "memory usage: 4.4+ MB\n"
          ],
          "name": "stdout"
        }
      ]
    },
    {
      "cell_type": "markdown",
      "metadata": {
        "id": "-U1kEGL1wTVL"
      },
      "source": [
        "- Dataset includes 1057 samples with 54 features (both numeric data and non-numeric data) and there are missing values"
      ]
    },
    {
      "cell_type": "code",
      "metadata": {
        "colab": {
          "base_uri": "https://localhost:8080/"
        },
        "id": "EVGcUG9DwTVL",
        "outputId": "f063808f-c141-4c2f-9b9f-d3397f884dae"
      },
      "source": [
        "df.index.duplicated().sum()"
      ],
      "execution_count": 7,
      "outputs": [
        {
          "output_type": "execute_result",
          "data": {
            "text/plain": [
              "8208"
            ]
          },
          "metadata": {
            "tags": []
          },
          "execution_count": 7
        }
      ]
    },
    {
      "cell_type": "markdown",
      "metadata": {
        "id": "tfHETgSdYBiG"
      },
      "source": [
        "- There are 8028 duplicated samples in dataset $\\rightarrow$ drop them"
      ]
    },
    {
      "cell_type": "code",
      "metadata": {
        "id": "LhdYtqOrY3my"
      },
      "source": [
        "df.drop_duplicates(inplace=True)"
      ],
      "execution_count": 8,
      "outputs": []
    },
    {
      "cell_type": "markdown",
      "metadata": {
        "id": "MbfdwZt1wTVM"
      },
      "source": [
        "### Number of missing values of each feature"
      ]
    },
    {
      "cell_type": "code",
      "metadata": {
        "colab": {
          "base_uri": "https://localhost:8080/"
        },
        "id": "YrAHUmhiwTVM",
        "outputId": "6b004f58-fe63-4f96-8c4c-c9c8836309e3"
      },
      "source": [
        "df.isna().sum()"
      ],
      "execution_count": 9,
      "outputs": [
        {
          "output_type": "execute_result",
          "data": {
            "text/plain": [
              "Reference                      0\n",
              "Date                           0\n",
              "Year                           0\n",
              "Month                          0\n",
              "Day                            0\n",
              "Day.1                          0\n",
              "Time                           0\n",
              "Severity                       0\n",
              "Road_Class                     0\n",
              "Main_rd_no                     0\n",
              "Junction Detail                0\n",
              "Light                          0\n",
              "Weather                        0\n",
              "Surface                        0\n",
              "Speed_limit                    0\n",
              "Cycle                          0\n",
              "TWMV                           0\n",
              "Child                          0\n",
              "Child_Pedestrian               0\n",
              "Ped                            0\n",
              "Skid                           0\n",
              "HGV                            0\n",
              "LGV                            0\n",
              "PSV                            0\n",
              "School Journey                 0\n",
              "Unnamed: 25                    0\n",
              "Pedestrian-1_Sex            9565\n",
              "Pedestrian_1_Age               0\n",
              "Pedestrian_1_Severity       9565\n",
              "Pedestria_1_Location        9570\n",
              "Pedestrian-1_Movement       9569\n",
              "Pedestrian_1_Mov_To         9565\n",
              "Location                       0\n",
              "Number_Vehicles                0\n",
              "Vehicle_1_Type                 3\n",
              "Vehicle_1_Manouvres            2\n",
              "Vehicle_1_From_Direction       7\n",
              "Vehicle_1_To_Direction         7\n",
              "Vehicle_1_Location             2\n",
              "Vehicle_1_Skidding             2\n",
              "Vehicle_2_Type              2687\n",
              "Vehicle_2_Manouvres         2688\n",
              "Vehicle_2_From_Direction    2690\n",
              "Vehicle_2_To_Direction      2690\n",
              "Vehicle_2_Location          2686\n",
              "Vehicle_ 2_Skidding         2686\n",
              "Vehicle_3_Type              9444\n",
              "V3_Manouvres                9444\n",
              "V3_From_Direction           9445\n",
              "V3_To_Direction             9445\n",
              "V3_Location                 9444\n",
              "V3_Skidding                 9444\n",
              "Easting                        0\n",
              "Northing                       0\n",
              "dtype: int64"
            ]
          },
          "metadata": {
            "tags": []
          },
          "execution_count": 9
        }
      ]
    },
    {
      "cell_type": "code",
      "metadata": {
        "id": "Hp3Mo5soroZE"
      },
      "source": [
        "def convert_time(Sr):\n",
        "    Sr=Sr.map('{:04}'.format)\n",
        "    Sr =Sr.map(lambda x: datetime.strptime(str(x), '%H%M').time())\n",
        "    return Sr\n",
        "\n",
        "df[\"Time\"] = convert_time(df[\"Time\"])"
      ],
      "execution_count": 10,
      "outputs": []
    },
    {
      "cell_type": "code",
      "metadata": {
        "colab": {
          "base_uri": "https://localhost:8080/"
        },
        "id": "Glxx7QA5vqXJ",
        "outputId": "a512a95c-8474-4c8b-f6a0-a8ab962f5b93"
      },
      "source": [
        "df[\"Time\"]"
      ],
      "execution_count": 11,
      "outputs": [
        {
          "output_type": "execute_result",
          "data": {
            "text/plain": [
              "0       11:40:00\n",
              "1       12:44:00\n",
              "2       13:17:00\n",
              "3       00:15:00\n",
              "4       17:45:00\n",
              "          ...   \n",
              "2120    18:03:00\n",
              "2121    11:35:00\n",
              "2122    17:51:00\n",
              "2123    21:00:00\n",
              "2124    15:15:00\n",
              "Name: Time, Length: 10527, dtype: object"
            ]
          },
          "metadata": {
            "tags": []
          },
          "execution_count": 11
        }
      ]
    },
    {
      "cell_type": "markdown",
      "metadata": {
        "id": "ZW7kmw_YwTVM"
      },
      "source": [
        "###Some properties of numeric data"
      ]
    },
    {
      "cell_type": "code",
      "metadata": {
        "colab": {
          "base_uri": "https://localhost:8080/",
          "height": 0
        },
        "id": "a6Q9_mgQwTVM",
        "outputId": "c87125a1-bba7-4470-d28b-89fd248c54ec"
      },
      "source": [
        "def missing_ratio(df):\n",
        "    return (df.isna().mean() * 100).round(1)\n",
        "des = df._get_numeric_data().describe()\n",
        "missing_inf = pd.DataFrame(df[df._get_numeric_data().columns].apply(missing_ratio), columns=[\"missing_ratio\"]).T\n",
        "des = pd.concat([des, missing_inf])\n",
        "des"
      ],
      "execution_count": 12,
      "outputs": [
        {
          "output_type": "execute_result",
          "data": {
            "text/html": [
              "<div>\n",
              "<style scoped>\n",
              "    .dataframe tbody tr th:only-of-type {\n",
              "        vertical-align: middle;\n",
              "    }\n",
              "\n",
              "    .dataframe tbody tr th {\n",
              "        vertical-align: top;\n",
              "    }\n",
              "\n",
              "    .dataframe thead th {\n",
              "        text-align: right;\n",
              "    }\n",
              "</style>\n",
              "<table border=\"1\" class=\"dataframe\">\n",
              "  <thead>\n",
              "    <tr style=\"text-align: right;\">\n",
              "      <th></th>\n",
              "      <th>Reference</th>\n",
              "      <th>Date</th>\n",
              "      <th>Year</th>\n",
              "      <th>Month</th>\n",
              "      <th>Day</th>\n",
              "      <th>Main_rd_no</th>\n",
              "      <th>Speed_limit</th>\n",
              "      <th>Unnamed: 25</th>\n",
              "      <th>Pedestrian_1_Age</th>\n",
              "      <th>Number_Vehicles</th>\n",
              "      <th>Easting</th>\n",
              "      <th>Northing</th>\n",
              "    </tr>\n",
              "  </thead>\n",
              "  <tbody>\n",
              "    <tr>\n",
              "      <th>count</th>\n",
              "      <td>1.052700e+04</td>\n",
              "      <td>1.052700e+04</td>\n",
              "      <td>10527.000000</td>\n",
              "      <td>10527.000000</td>\n",
              "      <td>10527.000000</td>\n",
              "      <td>10527.000000</td>\n",
              "      <td>10527.000000</td>\n",
              "      <td>10527.000000</td>\n",
              "      <td>10527.000000</td>\n",
              "      <td>10527.000000</td>\n",
              "      <td>10527.000000</td>\n",
              "      <td>10527.000000</td>\n",
              "    </tr>\n",
              "    <tr>\n",
              "      <th>mean</th>\n",
              "      <td>2.201518e+06</td>\n",
              "      <td>2.014023e+07</td>\n",
              "      <td>2013.953738</td>\n",
              "      <td>6.811342</td>\n",
              "      <td>15.677306</td>\n",
              "      <td>455.269877</td>\n",
              "      <td>43.893797</td>\n",
              "      <td>0.094329</td>\n",
              "      <td>2.910991</td>\n",
              "      <td>1.884677</td>\n",
              "      <td>533811.386977</td>\n",
              "      <td>278329.104309</td>\n",
              "    </tr>\n",
              "    <tr>\n",
              "      <th>std</th>\n",
              "      <td>3.978220e+06</td>\n",
              "      <td>1.438720e+04</td>\n",
              "      <td>1.438738</td>\n",
              "      <td>3.466861</td>\n",
              "      <td>8.683451</td>\n",
              "      <td>516.606169</td>\n",
              "      <td>16.218315</td>\n",
              "      <td>0.303149</td>\n",
              "      <td>11.412563</td>\n",
              "      <td>0.697162</td>\n",
              "      <td>14429.446087</td>\n",
              "      <td>19615.209907</td>\n",
              "    </tr>\n",
              "    <tr>\n",
              "      <th>min</th>\n",
              "      <td>1.120000e+02</td>\n",
              "      <td>2.012010e+07</td>\n",
              "      <td>2012.000000</td>\n",
              "      <td>1.000000</td>\n",
              "      <td>1.000000</td>\n",
              "      <td>0.000000</td>\n",
              "      <td>0.000000</td>\n",
              "      <td>0.000000</td>\n",
              "      <td>0.000000</td>\n",
              "      <td>1.000000</td>\n",
              "      <td>502042.269600</td>\n",
              "      <td>236372.418400</td>\n",
              "    </tr>\n",
              "    <tr>\n",
              "      <th>25%</th>\n",
              "      <td>8.801250e+04</td>\n",
              "      <td>2.013030e+07</td>\n",
              "      <td>2013.000000</td>\n",
              "      <td>4.000000</td>\n",
              "      <td>8.000000</td>\n",
              "      <td>10.000000</td>\n",
              "      <td>30.000000</td>\n",
              "      <td>0.000000</td>\n",
              "      <td>0.000000</td>\n",
              "      <td>1.000000</td>\n",
              "      <td>519381.447550</td>\n",
              "      <td>259546.035000</td>\n",
              "    </tr>\n",
              "    <tr>\n",
              "      <th>50%</th>\n",
              "      <td>2.062120e+05</td>\n",
              "      <td>2.014060e+07</td>\n",
              "      <td>2014.000000</td>\n",
              "      <td>7.000000</td>\n",
              "      <td>16.000000</td>\n",
              "      <td>198.000000</td>\n",
              "      <td>30.000000</td>\n",
              "      <td>0.000000</td>\n",
              "      <td>0.000000</td>\n",
              "      <td>2.000000</td>\n",
              "      <td>535325.998200</td>\n",
              "      <td>274386.057100</td>\n",
              "    </tr>\n",
              "    <tr>\n",
              "      <th>75%</th>\n",
              "      <td>3.034363e+06</td>\n",
              "      <td>2.015101e+07</td>\n",
              "      <td>2015.000000</td>\n",
              "      <td>10.000000</td>\n",
              "      <td>23.000000</td>\n",
              "      <td>1086.000000</td>\n",
              "      <td>60.000000</td>\n",
              "      <td>0.000000</td>\n",
              "      <td>0.000000</td>\n",
              "      <td>2.000000</td>\n",
              "      <td>545938.810000</td>\n",
              "      <td>298627.463050</td>\n",
              "    </tr>\n",
              "    <tr>\n",
              "      <th>max</th>\n",
              "      <td>2.017212e+07</td>\n",
              "      <td>2.016123e+07</td>\n",
              "      <td>2016.000000</td>\n",
              "      <td>12.000000</td>\n",
              "      <td>31.000000</td>\n",
              "      <td>6118.000000</td>\n",
              "      <td>70.000000</td>\n",
              "      <td>3.000000</td>\n",
              "      <td>95.000000</td>\n",
              "      <td>9.000000</td>\n",
              "      <td>570844.979400</td>\n",
              "      <td>317908.508900</td>\n",
              "    </tr>\n",
              "    <tr>\n",
              "      <th>missing_ratio</th>\n",
              "      <td>0.000000e+00</td>\n",
              "      <td>0.000000e+00</td>\n",
              "      <td>0.000000</td>\n",
              "      <td>0.000000</td>\n",
              "      <td>0.000000</td>\n",
              "      <td>0.000000</td>\n",
              "      <td>0.000000</td>\n",
              "      <td>0.000000</td>\n",
              "      <td>0.000000</td>\n",
              "      <td>0.000000</td>\n",
              "      <td>0.000000</td>\n",
              "      <td>0.000000</td>\n",
              "    </tr>\n",
              "  </tbody>\n",
              "</table>\n",
              "</div>"
            ],
            "text/plain": [
              "                  Reference          Date  ...        Easting       Northing\n",
              "count          1.052700e+04  1.052700e+04  ...   10527.000000   10527.000000\n",
              "mean           2.201518e+06  2.014023e+07  ...  533811.386977  278329.104309\n",
              "std            3.978220e+06  1.438720e+04  ...   14429.446087   19615.209907\n",
              "min            1.120000e+02  2.012010e+07  ...  502042.269600  236372.418400\n",
              "25%            8.801250e+04  2.013030e+07  ...  519381.447550  259546.035000\n",
              "50%            2.062120e+05  2.014060e+07  ...  535325.998200  274386.057100\n",
              "75%            3.034363e+06  2.015101e+07  ...  545938.810000  298627.463050\n",
              "max            2.017212e+07  2.016123e+07  ...  570844.979400  317908.508900\n",
              "missing_ratio  0.000000e+00  0.000000e+00  ...       0.000000       0.000000\n",
              "\n",
              "[9 rows x 12 columns]"
            ]
          },
          "metadata": {
            "tags": []
          },
          "execution_count": 12
        }
      ]
    },
    {
      "cell_type": "markdown",
      "metadata": {
        "id": "sW-ZHVBswTVN"
      },
      "source": [
        "###Some features of categorical features"
      ]
    },
    {
      "cell_type": "code",
      "metadata": {
        "id": "mytmg1mnwTVN"
      },
      "source": [
        "cate_features = df.select_dtypes(include='object').columns.to_list()"
      ],
      "execution_count": 13,
      "outputs": []
    },
    {
      "cell_type": "code",
      "metadata": {
        "colab": {
          "base_uri": "https://localhost:8080/",
          "height": 1000
        },
        "id": "2PxaOcdlwTVN",
        "outputId": "916c9346-e5f7-409d-ef13-9accf771bd3e"
      },
      "source": [
        "pd.set_option('display.max_colwidth', 200)\n",
        "def missing_ratio(df):\n",
        "    return (df.isna().mean() * 100).round(1)\n",
        "def num_values(df):\n",
        "    return df.nunique()\n",
        "def value_ratios(c):\n",
        "    return dict((c.value_counts(normalize=True) * 100).round(1))\n",
        "infor = df[cate_features].agg([missing_ratio, num_values, value_ratios])\n",
        "infor.T"
      ],
      "execution_count": 14,
      "outputs": [
        {
          "output_type": "execute_result",
          "data": {
            "text/html": [
              "<div>\n",
              "<style scoped>\n",
              "    .dataframe tbody tr th:only-of-type {\n",
              "        vertical-align: middle;\n",
              "    }\n",
              "\n",
              "    .dataframe tbody tr th {\n",
              "        vertical-align: top;\n",
              "    }\n",
              "\n",
              "    .dataframe thead th {\n",
              "        text-align: right;\n",
              "    }\n",
              "</style>\n",
              "<table border=\"1\" class=\"dataframe\">\n",
              "  <thead>\n",
              "    <tr style=\"text-align: right;\">\n",
              "      <th></th>\n",
              "      <th>missing_ratio</th>\n",
              "      <th>num_values</th>\n",
              "      <th>value_ratios</th>\n",
              "    </tr>\n",
              "  </thead>\n",
              "  <tbody>\n",
              "    <tr>\n",
              "      <th>Day.1</th>\n",
              "      <td>0</td>\n",
              "      <td>7</td>\n",
              "      <td>{'Friday': 17.0, 'Tuesday': 15.5, 'Wednesday': 15.5, 'Thursday': 15.5, 'Monday': 15.1, 'Saturday': 12.0, 'Sunday': 9.5}</td>\n",
              "    </tr>\n",
              "    <tr>\n",
              "      <th>Time</th>\n",
              "      <td>0</td>\n",
              "      <td>1216</td>\n",
              "      <td>{17:00:00: 1.1, 17:30:00: 1.0, 18:00:00: 1.0, 16:30:00: 0.9, 15:00:00: 0.9, 08:30:00: 0.9, 15:30:00: 0.9, 16:00:00: 0.9, 17:15:00: 0.9, 18:30:00: 0.8, 08:45:00: 0.8, 09:00:00: 0.8, 12:00:00: 0.7, ...</td>\n",
              "    </tr>\n",
              "    <tr>\n",
              "      <th>Severity</th>\n",
              "      <td>0</td>\n",
              "      <td>3</td>\n",
              "      <td>{'Slight': 83.6, 'Serious': 14.9, 'Fatal': 1.5}</td>\n",
              "    </tr>\n",
              "    <tr>\n",
              "      <th>Road_Class</th>\n",
              "      <td>0</td>\n",
              "      <td>6</td>\n",
              "      <td>{'A': 45.6, 'U': 20.1, 'C': 19.3, 'B': 13.5, 'M': 0.9, 'A(M)': 0.5}</td>\n",
              "    </tr>\n",
              "    <tr>\n",
              "      <th>Junction Detail</th>\n",
              "      <td>0</td>\n",
              "      <td>9</td>\n",
              "      <td>{'Not at junction': 44.1, ''T'/staggered junctn': 26.9, 'Roundabout': 13.2, 'Private drive/entry': 7.1, 'Cross roads': 4.8, 'Slip road': 1.7, 'Uncoded junction': 1.1, 'Mini-roundabout': 0.9, 'Junc...</td>\n",
              "    </tr>\n",
              "    <tr>\n",
              "      <th>Light</th>\n",
              "      <td>0</td>\n",
              "      <td>2</td>\n",
              "      <td>{'Day': 73.8, 'Dark': 26.2}</td>\n",
              "    </tr>\n",
              "    <tr>\n",
              "      <th>Weather</th>\n",
              "      <td>0</td>\n",
              "      <td>9</td>\n",
              "      <td>{'Fine (no wind)': 77.5, 'Rain (no wind)': 10.4, 'Unknown': 5.2, 'Uncoded': 2.8, 'Fine &amp; windy': 1.6, 'Raining &amp; windy': 1.0, 'Fog/mist': 1.0, 'Snow (no wind)': 0.4, 'Snowing &amp; windy': 0.0}</td>\n",
              "    </tr>\n",
              "    <tr>\n",
              "      <th>Surface</th>\n",
              "      <td>0</td>\n",
              "      <td>6</td>\n",
              "      <td>{'Dry': 68.3, 'Wet/damp': 29.8, 'Frost/Ice': 1.5, 'Snow': 0.3, 'Unknown': 0.2, 'Flood &gt;3cm': 0.1}</td>\n",
              "    </tr>\n",
              "    <tr>\n",
              "      <th>Cycle</th>\n",
              "      <td>0</td>\n",
              "      <td>2</td>\n",
              "      <td>{'N': 77.8, 'Y': 22.2}</td>\n",
              "    </tr>\n",
              "    <tr>\n",
              "      <th>TWMV</th>\n",
              "      <td>0</td>\n",
              "      <td>2</td>\n",
              "      <td>{'N': 88.2, 'Y': 11.8}</td>\n",
              "    </tr>\n",
              "    <tr>\n",
              "      <th>Child</th>\n",
              "      <td>0</td>\n",
              "      <td>2</td>\n",
              "      <td>{'N': 89.8, 'Y': 10.2}</td>\n",
              "    </tr>\n",
              "    <tr>\n",
              "      <th>Child_Pedestrian</th>\n",
              "      <td>0</td>\n",
              "      <td>2</td>\n",
              "      <td>{'N': 97.4, 'Y': 2.6}</td>\n",
              "    </tr>\n",
              "    <tr>\n",
              "      <th>Ped</th>\n",
              "      <td>0</td>\n",
              "      <td>2</td>\n",
              "      <td>{'N': 90.9, 'Y': 9.1}</td>\n",
              "    </tr>\n",
              "    <tr>\n",
              "      <th>Skid</th>\n",
              "      <td>0</td>\n",
              "      <td>2</td>\n",
              "      <td>{'N': 79.5, 'Y': 20.5}</td>\n",
              "    </tr>\n",
              "    <tr>\n",
              "      <th>HGV</th>\n",
              "      <td>0</td>\n",
              "      <td>2</td>\n",
              "      <td>{'N': 93.4, 'Y': 6.6}</td>\n",
              "    </tr>\n",
              "    <tr>\n",
              "      <th>LGV</th>\n",
              "      <td>0</td>\n",
              "      <td>2</td>\n",
              "      <td>{'N': 91.5, 'Y': 8.5}</td>\n",
              "    </tr>\n",
              "    <tr>\n",
              "      <th>PSV</th>\n",
              "      <td>0</td>\n",
              "      <td>2</td>\n",
              "      <td>{'N': 98.2, 'Y': 1.8}</td>\n",
              "    </tr>\n",
              "    <tr>\n",
              "      <th>School Journey</th>\n",
              "      <td>0</td>\n",
              "      <td>2</td>\n",
              "      <td>{'N': 99.0, 'Y': 1.0}</td>\n",
              "    </tr>\n",
              "    <tr>\n",
              "      <th>Pedestrian-1_Sex</th>\n",
              "      <td>90.9</td>\n",
              "      <td>3</td>\n",
              "      <td>{'Male': 57.0, 'Female': 42.9, 'Not known': 0.1}</td>\n",
              "    </tr>\n",
              "    <tr>\n",
              "      <th>Pedestrian_1_Severity</th>\n",
              "      <td>90.9</td>\n",
              "      <td>4</td>\n",
              "      <td>{'Slight': 75.6, 'Serious': 22.6, 'Fatal': 1.8, 'Unhurt': 0.1}</td>\n",
              "    </tr>\n",
              "    <tr>\n",
              "      <th>Pedestria_1_Location</th>\n",
              "      <td>90.9</td>\n",
              "      <td>10</td>\n",
              "      <td>{' In c/w and crossing road': 44.8, ' On footway/verge': 16.3, ' In c/w not crossing': 12.6, ' In c/w on pedestrian Xing': 12.1, ' In c/w within 50m of Xing': 5.9, ' Unknown': 5.1, ' In cntr c/w n...</td>\n",
              "    </tr>\n",
              "    <tr>\n",
              "      <th>Pedestrian-1_Movement</th>\n",
              "      <td>90.9</td>\n",
              "      <td>9</td>\n",
              "      <td>{'Crossing from driver's nearside': 29.6, 'Not known': 24.7, 'Crossing from driver's offside': 19.0, 'In c/w standing/playing': 7.7, 'Crossing from driver's nearside (masked)': 6.5, 'Crossing from...</td>\n",
              "    </tr>\n",
              "    <tr>\n",
              "      <th>Pedestrian_1_Mov_To</th>\n",
              "      <td>90.9</td>\n",
              "      <td>10</td>\n",
              "      <td>{'Unknown': 18.9, 'Standing still': 15.0, 'Towards E': 13.6, 'Towards W': 13.5, 'Towards N': 12.1, 'Towards S': 11.1, 'Towards SW': 4.6, 'Towards NE': 3.8, 'Towards NW': 3.7, 'Towards SE': 3.6}</td>\n",
              "    </tr>\n",
              "    <tr>\n",
              "      <th>Location</th>\n",
              "      <td>0</td>\n",
              "      <td>10126</td>\n",
              "      <td>{'PARK RD JUNCTION BURGHLEY RD PETERBOROUGH': 0.1, 'A1139 FLETTON PARKWAY PETERBOROUGH': 0.1, 'A141 ISLE OF ELY WAY JUNCTION GAUL RD MARCH': 0.0, 'A1303 MADINGLEY RD JUNCTION STOREYS WAY CAMBRIDGE...</td>\n",
              "    </tr>\n",
              "    <tr>\n",
              "      <th>Vehicle_1_Type</th>\n",
              "      <td>0</td>\n",
              "      <td>18</td>\n",
              "      <td>{'Car': 74.5, 'Van/GV &lt;=3.5t mgw': 5.4, 'Pedal cycle': 4.6, 'GV &gt;= 7.5t mgw': 3.4, 'Motorcycle &gt;500cc': 2.4, 'Motorcycle &gt;50 &lt;= 12': 2.3, 'Taxi/private hire ca': 2.2, 'Bus or coach &gt;16 sea': 1.2, ...</td>\n",
              "    </tr>\n",
              "    <tr>\n",
              "      <th>Vehicle_1_Manouvres</th>\n",
              "      <td>0</td>\n",
              "      <td>18</td>\n",
              "      <td>{'Going ahead': 41.3, 'Turning right': 12.5, 'Slow or stopping': 7.7, 'Moving off': 6.9, 'Going ahead right hand bend': 5.5, 'Going ahead left hand bend': 5.2, 'Turning left': 5.2, 'Ovrtking movin...</td>\n",
              "    </tr>\n",
              "    <tr>\n",
              "      <th>Vehicle_1_From_Direction</th>\n",
              "      <td>0.1</td>\n",
              "      <td>9</td>\n",
              "      <td>{'N': 13.6, 'S': 13.4, 'W': 11.9, 'E': 11.3, 'NW': 10.9, 'SE': 10.5, 'SW': 10.2, 'NE': 9.7, 'Parked': 8.5}</td>\n",
              "    </tr>\n",
              "    <tr>\n",
              "      <th>Vehicle_1_To_Direction</th>\n",
              "      <td>0.1</td>\n",
              "      <td>9</td>\n",
              "      <td>{'N': 13.8, 'S': 13.4, 'E': 11.5, 'W': 11.2, 'NW': 10.6, 'SE': 10.6, 'NE': 10.1, 'SW': 10.0, 'Parked': 8.7}</td>\n",
              "    </tr>\n",
              "    <tr>\n",
              "      <th>Vehicle_1_Location</th>\n",
              "      <td>0</td>\n",
              "      <td>9</td>\n",
              "      <td>{'Not at,or within 20m of, junction': 44.2, 'Approaching jnctn or waiting/parked': 15.5, 'Entering main road': 11.5, 'Mid jnctn - on rbout or main road': 10.2, 'Leaving main road': 7.0, 'Entering ...</td>\n",
              "    </tr>\n",
              "    <tr>\n",
              "      <th>Vehicle_1_Skidding</th>\n",
              "      <td>0</td>\n",
              "      <td>6</td>\n",
              "      <td>{'Did not skid': 80.2, 'Skidded': 12.2, 'Skidded/ovrtn': 4.6, 'Overturned': 2.9, 'Jackknifed': 0.1, 'Jacknfe/ovrtn': 0.0}</td>\n",
              "    </tr>\n",
              "    <tr>\n",
              "      <th>Vehicle_2_Type</th>\n",
              "      <td>25.5</td>\n",
              "      <td>20</td>\n",
              "      <td>{'Car': 58.5, 'Pedal cycle': 23.9, 'Van/GV &lt;=3.5t mgw': 3.8, 'GV &gt;= 7.5t mgw': 2.6, 'Motorcycle &gt;500cc': 2.6, 'Motorcycle &gt;50 &lt;= 12': 2.3, 'Taxi/private hire ca': 1.4, 'Motorcycle &lt;=50cc': 1.1, 'M...</td>\n",
              "    </tr>\n",
              "    <tr>\n",
              "      <th>Vehicle_2_Manouvres</th>\n",
              "      <td>25.5</td>\n",
              "      <td>18</td>\n",
              "      <td>{'Going ahead': 46.9, 'Slow or stopping': 13.2, 'Waiting to go ahd but held up': 9.6, 'Turning right': 6.3, 'Parked': 4.5, 'Going ahead right hand bend': 3.2, 'Moving off': 2.7, 'Going ahead left ...</td>\n",
              "    </tr>\n",
              "    <tr>\n",
              "      <th>Vehicle_2_From_Direction</th>\n",
              "      <td>25.6</td>\n",
              "      <td>9</td>\n",
              "      <td>{'N': 13.6, 'S': 13.6, 'W': 11.0, 'E': 10.9, 'SW': 10.8, 'SE': 10.5, 'Parked': 10.3, 'NW': 10.3, 'NE': 8.9}</td>\n",
              "    </tr>\n",
              "    <tr>\n",
              "      <th>Vehicle_2_To_Direction</th>\n",
              "      <td>25.6</td>\n",
              "      <td>9</td>\n",
              "      <td>{'N': 13.5, 'S': 13.4, 'E': 11.5, 'W': 10.9, 'Parked': 10.9, 'NE': 10.4, 'SE': 10.3, 'NW': 9.9, 'SW': 9.1}</td>\n",
              "    </tr>\n",
              "    <tr>\n",
              "      <th>Vehicle_2_Location</th>\n",
              "      <td>25.5</td>\n",
              "      <td>9</td>\n",
              "      <td>{'Not at,or within 20m of, junction': 36.6, 'Mid jnctn - on rbout or main road': 29.2, 'Approaching jnctn or waiting/parked': 20.0, 'Leaving main road': 3.2, 'Entering main road': 3.1, 'Cleared jn...</td>\n",
              "    </tr>\n",
              "    <tr>\n",
              "      <th>Vehicle_ 2_Skidding</th>\n",
              "      <td>25.5</td>\n",
              "      <td>6</td>\n",
              "      <td>{'Did not skid': 91.2, 'Skidded': 4.8, 'Overturned': 2.4, 'Skidded/ovrtn': 1.6, 'Jackknifed': 0.0, 'Jacknfe/ovrtn': 0.0}</td>\n",
              "    </tr>\n",
              "    <tr>\n",
              "      <th>Vehicle_3_Type</th>\n",
              "      <td>89.7</td>\n",
              "      <td>14</td>\n",
              "      <td>{'Car': 81.8, 'Van/GV &lt;=3.5t mgw': 6.4, 'GV &gt;= 7.5t mgw': 3.7, 'Pedal cycle': 2.6, 'Taxi/private hire ca': 1.3, 'GV - unknown weight': 0.9, 'GV &gt;3.5 &lt; 7.5t mgw': 0.9, 'Motorcycle &gt;50 &lt;= 12': 0.6, ...</td>\n",
              "    </tr>\n",
              "    <tr>\n",
              "      <th>V3_Manouvres</th>\n",
              "      <td>89.7</td>\n",
              "      <td>16</td>\n",
              "      <td>{'Slow or stopping': 28.3, 'Going ahead': 26.5, 'Waiting to go ahd but held up': 19.8, 'Parked': 11.7, 'Waiting to turn right': 4.4, 'Going ahead left hand bend': 2.0, 'Going ahead right hand bend...</td>\n",
              "    </tr>\n",
              "    <tr>\n",
              "      <th>V3_From_Direction</th>\n",
              "      <td>89.7</td>\n",
              "      <td>9</td>\n",
              "      <td>{'Parked': 15.8, 'W': 12.4, 'N': 11.7, 'S': 11.6, 'SE': 11.4, 'NW': 10.4, 'E': 10.2, 'SW': 9.7, 'NE': 6.9}</td>\n",
              "    </tr>\n",
              "    <tr>\n",
              "      <th>V3_To_Direction</th>\n",
              "      <td>89.7</td>\n",
              "      <td>9</td>\n",
              "      <td>{'Parked': 16.9, 'E': 13.3, 'S': 11.5, 'NW': 11.1, 'N': 11.0, 'SE': 10.2, 'W': 10.0, 'NE': 9.3, 'SW': 6.7}</td>\n",
              "    </tr>\n",
              "    <tr>\n",
              "      <th>V3_Location</th>\n",
              "      <td>89.7</td>\n",
              "      <td>9</td>\n",
              "      <td>{'Not at,or within 20m of, junction': 58.8, 'Approaching jnctn or waiting/parked': 24.1, 'Mid jnctn - on rbout or main road': 7.8, 'Cleared jnctn or waiting/parked at': 3.6, 'Entering from slip ro...</td>\n",
              "    </tr>\n",
              "    <tr>\n",
              "      <th>V3_Skidding</th>\n",
              "      <td>89.7</td>\n",
              "      <td>4</td>\n",
              "      <td>{'Did not skid': 95.5, 'Skidded': 3.7, 'Skidded/ovrtn': 0.5, 'Overturned': 0.4}</td>\n",
              "    </tr>\n",
              "  </tbody>\n",
              "</table>\n",
              "</div>"
            ],
            "text/plain": [
              "                         missing_ratio  ...                                                                                                                                                                                             value_ratios\n",
              "Day.1                                0  ...                                                                                  {'Friday': 17.0, 'Tuesday': 15.5, 'Wednesday': 15.5, 'Thursday': 15.5, 'Monday': 15.1, 'Saturday': 12.0, 'Sunday': 9.5}\n",
              "Time                                 0  ...  {17:00:00: 1.1, 17:30:00: 1.0, 18:00:00: 1.0, 16:30:00: 0.9, 15:00:00: 0.9, 08:30:00: 0.9, 15:30:00: 0.9, 16:00:00: 0.9, 17:15:00: 0.9, 18:30:00: 0.8, 08:45:00: 0.8, 09:00:00: 0.8, 12:00:00: 0.7, ...\n",
              "Severity                             0  ...                                                                                                                                                          {'Slight': 83.6, 'Serious': 14.9, 'Fatal': 1.5}\n",
              "Road_Class                           0  ...                                                                                                                                      {'A': 45.6, 'U': 20.1, 'C': 19.3, 'B': 13.5, 'M': 0.9, 'A(M)': 0.5}\n",
              "Junction Detail                      0  ...  {'Not at junction': 44.1, ''T'/staggered junctn': 26.9, 'Roundabout': 13.2, 'Private drive/entry': 7.1, 'Cross roads': 4.8, 'Slip road': 1.7, 'Uncoded junction': 1.1, 'Mini-roundabout': 0.9, 'Junc...\n",
              "Light                                0  ...                                                                                                                                                                              {'Day': 73.8, 'Dark': 26.2}\n",
              "Weather                              0  ...            {'Fine (no wind)': 77.5, 'Rain (no wind)': 10.4, 'Unknown': 5.2, 'Uncoded': 2.8, 'Fine & windy': 1.6, 'Raining & windy': 1.0, 'Fog/mist': 1.0, 'Snow (no wind)': 0.4, 'Snowing & windy': 0.0}\n",
              "Surface                              0  ...                                                                                                        {'Dry': 68.3, 'Wet/damp': 29.8, 'Frost/Ice': 1.5, 'Snow': 0.3, 'Unknown': 0.2, 'Flood >3cm': 0.1}\n",
              "Cycle                                0  ...                                                                                                                                                                                   {'N': 77.8, 'Y': 22.2}\n",
              "TWMV                                 0  ...                                                                                                                                                                                   {'N': 88.2, 'Y': 11.8}\n",
              "Child                                0  ...                                                                                                                                                                                   {'N': 89.8, 'Y': 10.2}\n",
              "Child_Pedestrian                     0  ...                                                                                                                                                                                    {'N': 97.4, 'Y': 2.6}\n",
              "Ped                                  0  ...                                                                                                                                                                                    {'N': 90.9, 'Y': 9.1}\n",
              "Skid                                 0  ...                                                                                                                                                                                   {'N': 79.5, 'Y': 20.5}\n",
              "HGV                                  0  ...                                                                                                                                                                                    {'N': 93.4, 'Y': 6.6}\n",
              "LGV                                  0  ...                                                                                                                                                                                    {'N': 91.5, 'Y': 8.5}\n",
              "PSV                                  0  ...                                                                                                                                                                                    {'N': 98.2, 'Y': 1.8}\n",
              "School Journey                       0  ...                                                                                                                                                                                    {'N': 99.0, 'Y': 1.0}\n",
              "Pedestrian-1_Sex                  90.9  ...                                                                                                                                                         {'Male': 57.0, 'Female': 42.9, 'Not known': 0.1}\n",
              "Pedestrian_1_Severity             90.9  ...                                                                                                                                           {'Slight': 75.6, 'Serious': 22.6, 'Fatal': 1.8, 'Unhurt': 0.1}\n",
              "Pedestria_1_Location              90.9  ...  {' In c/w and crossing road': 44.8, ' On footway/verge': 16.3, ' In c/w not crossing': 12.6, ' In c/w on pedestrian Xing': 12.1, ' In c/w within 50m of Xing': 5.9, ' Unknown': 5.1, ' In cntr c/w n...\n",
              "Pedestrian-1_Movement             90.9  ...  {'Crossing from driver's nearside': 29.6, 'Not known': 24.7, 'Crossing from driver's offside': 19.0, 'In c/w standing/playing': 7.7, 'Crossing from driver's nearside (masked)': 6.5, 'Crossing from...\n",
              "Pedestrian_1_Mov_To               90.9  ...        {'Unknown': 18.9, 'Standing still': 15.0, 'Towards E': 13.6, 'Towards W': 13.5, 'Towards N': 12.1, 'Towards S': 11.1, 'Towards SW': 4.6, 'Towards NE': 3.8, 'Towards NW': 3.7, 'Towards SE': 3.6}\n",
              "Location                             0  ...  {'PARK RD JUNCTION BURGHLEY RD PETERBOROUGH': 0.1, 'A1139 FLETTON PARKWAY PETERBOROUGH': 0.1, 'A141 ISLE OF ELY WAY JUNCTION GAUL RD MARCH': 0.0, 'A1303 MADINGLEY RD JUNCTION STOREYS WAY CAMBRIDGE...\n",
              "Vehicle_1_Type                       0  ...  {'Car': 74.5, 'Van/GV <=3.5t mgw': 5.4, 'Pedal cycle': 4.6, 'GV >= 7.5t mgw': 3.4, 'Motorcycle >500cc': 2.4, 'Motorcycle >50 <= 12': 2.3, 'Taxi/private hire ca': 2.2, 'Bus or coach >16 sea': 1.2, ...\n",
              "Vehicle_1_Manouvres                  0  ...  {'Going ahead': 41.3, 'Turning right': 12.5, 'Slow or stopping': 7.7, 'Moving off': 6.9, 'Going ahead right hand bend': 5.5, 'Going ahead left hand bend': 5.2, 'Turning left': 5.2, 'Ovrtking movin...\n",
              "Vehicle_1_From_Direction           0.1  ...                                                                                               {'N': 13.6, 'S': 13.4, 'W': 11.9, 'E': 11.3, 'NW': 10.9, 'SE': 10.5, 'SW': 10.2, 'NE': 9.7, 'Parked': 8.5}\n",
              "Vehicle_1_To_Direction             0.1  ...                                                                                              {'N': 13.8, 'S': 13.4, 'E': 11.5, 'W': 11.2, 'NW': 10.6, 'SE': 10.6, 'NE': 10.1, 'SW': 10.0, 'Parked': 8.7}\n",
              "Vehicle_1_Location                   0  ...  {'Not at,or within 20m of, junction': 44.2, 'Approaching jnctn or waiting/parked': 15.5, 'Entering main road': 11.5, 'Mid jnctn - on rbout or main road': 10.2, 'Leaving main road': 7.0, 'Entering ...\n",
              "Vehicle_1_Skidding                   0  ...                                                                                {'Did not skid': 80.2, 'Skidded': 12.2, 'Skidded/ovrtn': 4.6, 'Overturned': 2.9, 'Jackknifed': 0.1, 'Jacknfe/ovrtn': 0.0}\n",
              "Vehicle_2_Type                    25.5  ...  {'Car': 58.5, 'Pedal cycle': 23.9, 'Van/GV <=3.5t mgw': 3.8, 'GV >= 7.5t mgw': 2.6, 'Motorcycle >500cc': 2.6, 'Motorcycle >50 <= 12': 2.3, 'Taxi/private hire ca': 1.4, 'Motorcycle <=50cc': 1.1, 'M...\n",
              "Vehicle_2_Manouvres               25.5  ...  {'Going ahead': 46.9, 'Slow or stopping': 13.2, 'Waiting to go ahd but held up': 9.6, 'Turning right': 6.3, 'Parked': 4.5, 'Going ahead right hand bend': 3.2, 'Moving off': 2.7, 'Going ahead left ...\n",
              "Vehicle_2_From_Direction          25.6  ...                                                                                              {'N': 13.6, 'S': 13.6, 'W': 11.0, 'E': 10.9, 'SW': 10.8, 'SE': 10.5, 'Parked': 10.3, 'NW': 10.3, 'NE': 8.9}\n",
              "Vehicle_2_To_Direction            25.6  ...                                                                                               {'N': 13.5, 'S': 13.4, 'E': 11.5, 'W': 10.9, 'Parked': 10.9, 'NE': 10.4, 'SE': 10.3, 'NW': 9.9, 'SW': 9.1}\n",
              "Vehicle_2_Location                25.5  ...  {'Not at,or within 20m of, junction': 36.6, 'Mid jnctn - on rbout or main road': 29.2, 'Approaching jnctn or waiting/parked': 20.0, 'Leaving main road': 3.2, 'Entering main road': 3.1, 'Cleared jn...\n",
              "Vehicle_ 2_Skidding               25.5  ...                                                                                 {'Did not skid': 91.2, 'Skidded': 4.8, 'Overturned': 2.4, 'Skidded/ovrtn': 1.6, 'Jackknifed': 0.0, 'Jacknfe/ovrtn': 0.0}\n",
              "Vehicle_3_Type                    89.7  ...  {'Car': 81.8, 'Van/GV <=3.5t mgw': 6.4, 'GV >= 7.5t mgw': 3.7, 'Pedal cycle': 2.6, 'Taxi/private hire ca': 1.3, 'GV - unknown weight': 0.9, 'GV >3.5 < 7.5t mgw': 0.9, 'Motorcycle >50 <= 12': 0.6, ...\n",
              "V3_Manouvres                      89.7  ...  {'Slow or stopping': 28.3, 'Going ahead': 26.5, 'Waiting to go ahd but held up': 19.8, 'Parked': 11.7, 'Waiting to turn right': 4.4, 'Going ahead left hand bend': 2.0, 'Going ahead right hand bend...\n",
              "V3_From_Direction                 89.7  ...                                                                                               {'Parked': 15.8, 'W': 12.4, 'N': 11.7, 'S': 11.6, 'SE': 11.4, 'NW': 10.4, 'E': 10.2, 'SW': 9.7, 'NE': 6.9}\n",
              "V3_To_Direction                   89.7  ...                                                                                               {'Parked': 16.9, 'E': 13.3, 'S': 11.5, 'NW': 11.1, 'N': 11.0, 'SE': 10.2, 'W': 10.0, 'NE': 9.3, 'SW': 6.7}\n",
              "V3_Location                       89.7  ...  {'Not at,or within 20m of, junction': 58.8, 'Approaching jnctn or waiting/parked': 24.1, 'Mid jnctn - on rbout or main road': 7.8, 'Cleared jnctn or waiting/parked at': 3.6, 'Entering from slip ro...\n",
              "V3_Skidding                       89.7  ...                                                                                                                          {'Did not skid': 95.5, 'Skidded': 3.7, 'Skidded/ovrtn': 0.5, 'Overturned': 0.4}\n",
              "\n",
              "[42 rows x 3 columns]"
            ]
          },
          "metadata": {
            "tags": []
          },
          "execution_count": 14
        }
      ]
    },
    {
      "cell_type": "markdown",
      "metadata": {
        "id": "WUoQ2hjZwTVN"
      },
      "source": [
        "- Select features having large missing ratio and drop them\n",
        "We also drop \"Date\" và \"Unnamed: 25\" feature because there have already been year, month, day features"
      ]
    },
    {
      "cell_type": "code",
      "metadata": {
        "colab": {
          "base_uri": "https://localhost:8080/"
        },
        "id": "i0ztx2pfwTVO",
        "outputId": "b5619c72-9792-4bf6-8b4b-905c8849663a"
      },
      "source": [
        "top_missing_features = infor.T[infor.T['missing_ratio'] >= 90].index.to_list()\n",
        "top_missing_features"
      ],
      "execution_count": 15,
      "outputs": [
        {
          "output_type": "execute_result",
          "data": {
            "text/plain": [
              "['Pedestrian-1_Sex',\n",
              " 'Pedestrian_1_Severity',\n",
              " 'Pedestria_1_Location',\n",
              " 'Pedestrian-1_Movement',\n",
              " 'Pedestrian_1_Mov_To']"
            ]
          },
          "metadata": {
            "tags": []
          },
          "execution_count": 15
        }
      ]
    },
    {
      "cell_type": "code",
      "metadata": {
        "id": "R_hzVoLwwTVO"
      },
      "source": [
        "data = df.copy()\n",
        "data.drop(columns=top_missing_features+[\"Date\", \"Unnamed: 25\"],inplace=True)\n",
        "# data.drop(columns=[\"Date\"], inplace=True)"
      ],
      "execution_count": 16,
      "outputs": []
    },
    {
      "cell_type": "markdown",
      "metadata": {
        "id": "NztEkNQOwTVO"
      },
      "source": [
        "Using SimpleImputer to fill missing values of data\n",
        "- We only do on categorical data because there is no missing value at numeric data"
      ]
    },
    {
      "cell_type": "code",
      "metadata": {
        "id": "TgWt2Fw_wTVO"
      },
      "source": [
        "cate_features = data.select_dtypes(include='object').columns.to_list()\n",
        "num_features = data.select_dtypes(exclude='object').columns.to_list()"
      ],
      "execution_count": 17,
      "outputs": []
    },
    {
      "cell_type": "code",
      "metadata": {
        "colab": {
          "base_uri": "https://localhost:8080/",
          "height": 199
        },
        "id": "4BPm8m4NwTVP",
        "outputId": "5ed24be3-395f-4d22-94df-b044471b1639"
      },
      "source": [
        "data[cate_features].head(2)"
      ],
      "execution_count": 18,
      "outputs": [
        {
          "output_type": "execute_result",
          "data": {
            "text/html": [
              "<div>\n",
              "<style scoped>\n",
              "    .dataframe tbody tr th:only-of-type {\n",
              "        vertical-align: middle;\n",
              "    }\n",
              "\n",
              "    .dataframe tbody tr th {\n",
              "        vertical-align: top;\n",
              "    }\n",
              "\n",
              "    .dataframe thead th {\n",
              "        text-align: right;\n",
              "    }\n",
              "</style>\n",
              "<table border=\"1\" class=\"dataframe\">\n",
              "  <thead>\n",
              "    <tr style=\"text-align: right;\">\n",
              "      <th></th>\n",
              "      <th>Day.1</th>\n",
              "      <th>Time</th>\n",
              "      <th>Severity</th>\n",
              "      <th>Road_Class</th>\n",
              "      <th>Junction Detail</th>\n",
              "      <th>Light</th>\n",
              "      <th>Weather</th>\n",
              "      <th>Surface</th>\n",
              "      <th>Cycle</th>\n",
              "      <th>TWMV</th>\n",
              "      <th>Child</th>\n",
              "      <th>Child_Pedestrian</th>\n",
              "      <th>Ped</th>\n",
              "      <th>Skid</th>\n",
              "      <th>HGV</th>\n",
              "      <th>LGV</th>\n",
              "      <th>PSV</th>\n",
              "      <th>School Journey</th>\n",
              "      <th>Location</th>\n",
              "      <th>Vehicle_1_Type</th>\n",
              "      <th>Vehicle_1_Manouvres</th>\n",
              "      <th>Vehicle_1_From_Direction</th>\n",
              "      <th>Vehicle_1_To_Direction</th>\n",
              "      <th>Vehicle_1_Location</th>\n",
              "      <th>Vehicle_1_Skidding</th>\n",
              "      <th>Vehicle_2_Type</th>\n",
              "      <th>Vehicle_2_Manouvres</th>\n",
              "      <th>Vehicle_2_From_Direction</th>\n",
              "      <th>Vehicle_2_To_Direction</th>\n",
              "      <th>Vehicle_2_Location</th>\n",
              "      <th>Vehicle_ 2_Skidding</th>\n",
              "      <th>Vehicle_3_Type</th>\n",
              "      <th>V3_Manouvres</th>\n",
              "      <th>V3_From_Direction</th>\n",
              "      <th>V3_To_Direction</th>\n",
              "      <th>V3_Location</th>\n",
              "      <th>V3_Skidding</th>\n",
              "    </tr>\n",
              "  </thead>\n",
              "  <tbody>\n",
              "    <tr>\n",
              "      <th>0</th>\n",
              "      <td>Tuesday</td>\n",
              "      <td>11:40:00</td>\n",
              "      <td>Slight</td>\n",
              "      <td>A</td>\n",
              "      <td>'T'/staggered junctn</td>\n",
              "      <td>Day</td>\n",
              "      <td>Raining &amp; windy</td>\n",
              "      <td>Wet/damp</td>\n",
              "      <td>N</td>\n",
              "      <td>N</td>\n",
              "      <td>N</td>\n",
              "      <td>N</td>\n",
              "      <td>N</td>\n",
              "      <td>Y</td>\n",
              "      <td>N</td>\n",
              "      <td>N</td>\n",
              "      <td>N</td>\n",
              "      <td>N</td>\n",
              "      <td>A1198 JUNCTION LONDON RD GODMANCHESTER</td>\n",
              "      <td>Car</td>\n",
              "      <td>Moving off</td>\n",
              "      <td>W</td>\n",
              "      <td>E</td>\n",
              "      <td>Entering main road</td>\n",
              "      <td>Did not skid</td>\n",
              "      <td>Car</td>\n",
              "      <td>Going ahead</td>\n",
              "      <td>SE</td>\n",
              "      <td>N</td>\n",
              "      <td>Approaching jnctn or waiting/parked</td>\n",
              "      <td>Skidded</td>\n",
              "      <td>NaN</td>\n",
              "      <td>NaN</td>\n",
              "      <td>NaN</td>\n",
              "      <td>NaN</td>\n",
              "      <td>NaN</td>\n",
              "      <td>NaN</td>\n",
              "    </tr>\n",
              "    <tr>\n",
              "      <th>1</th>\n",
              "      <td>Tuesday</td>\n",
              "      <td>12:44:00</td>\n",
              "      <td>Slight</td>\n",
              "      <td>A</td>\n",
              "      <td>Not at junction</td>\n",
              "      <td>Day</td>\n",
              "      <td>Fine (no wind)</td>\n",
              "      <td>Wet/damp</td>\n",
              "      <td>N</td>\n",
              "      <td>N</td>\n",
              "      <td>N</td>\n",
              "      <td>N</td>\n",
              "      <td>N</td>\n",
              "      <td>N</td>\n",
              "      <td>Y</td>\n",
              "      <td>N</td>\n",
              "      <td>N</td>\n",
              "      <td>N</td>\n",
              "      <td>A505 50M EAST OF M11 AT LAYBY</td>\n",
              "      <td>Car</td>\n",
              "      <td>Going ahead</td>\n",
              "      <td>NE</td>\n",
              "      <td>SW</td>\n",
              "      <td>Not at,or within 20m of, junction</td>\n",
              "      <td>Did not skid</td>\n",
              "      <td>GV &gt;= 7.5t mgw</td>\n",
              "      <td>Parked</td>\n",
              "      <td>Parked</td>\n",
              "      <td>Parked</td>\n",
              "      <td>Not at,or within 20m of, junction</td>\n",
              "      <td>Did not skid</td>\n",
              "      <td>NaN</td>\n",
              "      <td>NaN</td>\n",
              "      <td>NaN</td>\n",
              "      <td>NaN</td>\n",
              "      <td>NaN</td>\n",
              "      <td>NaN</td>\n",
              "    </tr>\n",
              "  </tbody>\n",
              "</table>\n",
              "</div>"
            ],
            "text/plain": [
              "     Day.1      Time Severity  ... V3_To_Direction V3_Location V3_Skidding\n",
              "0  Tuesday  11:40:00   Slight  ...             NaN         NaN         NaN\n",
              "1  Tuesday  12:44:00   Slight  ...             NaN         NaN         NaN\n",
              "\n",
              "[2 rows x 37 columns]"
            ]
          },
          "metadata": {
            "tags": []
          },
          "execution_count": 18
        }
      ]
    },
    {
      "cell_type": "code",
      "metadata": {
        "id": "SAoqSSDcwTVP"
      },
      "source": [
        "# num_imputer = [('num', SimpleImputer(missing_values= np.nan, strategy='mean'))]\n",
        "cate_imputer =[('cate', SimpleImputer(missing_values= np.nan, strategy='most_frequent'))]"
      ],
      "execution_count": 19,
      "outputs": []
    },
    {
      "cell_type": "code",
      "metadata": {
        "id": "WA-gS4q7wTVP"
      },
      "source": [
        "# tsf = ColumnTransformer([('num', Pipeline(num_imputer), num_features), ('cate', Pipeline(cate_imputer), cate_features)])\n",
        "tsf = ColumnTransformer([('cate', Pipeline(cate_imputer), cate_features)])\n",
        "cate_data = pd.DataFrame(tsf.fit_transform(data), columns = cate_features, index = data.index)"
      ],
      "execution_count": 20,
      "outputs": []
    },
    {
      "cell_type": "code",
      "metadata": {
        "id": "NIpVPAjlmdco"
      },
      "source": [
        "data.drop(columns=cate_features, inplace=True)"
      ],
      "execution_count": 21,
      "outputs": []
    },
    {
      "cell_type": "code",
      "metadata": {
        "id": "nIaArV4Yokjg"
      },
      "source": [
        "data =pd.concat([data, cate_data], axis=1)"
      ],
      "execution_count": 22,
      "outputs": []
    },
    {
      "cell_type": "markdown",
      "metadata": {
        "id": "1ob47qszwTVQ"
      },
      "source": [
        "Check data again"
      ]
    },
    {
      "cell_type": "code",
      "metadata": {
        "colab": {
          "base_uri": "https://localhost:8080/"
        },
        "id": "2g6GZqQRwTVQ",
        "outputId": "4836266c-112b-46fc-beab-07adfbc55349"
      },
      "source": [
        "data.info()"
      ],
      "execution_count": 23,
      "outputs": [
        {
          "output_type": "stream",
          "text": [
            "<class 'pandas.core.frame.DataFrame'>\n",
            "Int64Index: 10527 entries, 0 to 2124\n",
            "Data columns (total 47 columns):\n",
            " #   Column                    Non-Null Count  Dtype  \n",
            "---  ------                    --------------  -----  \n",
            " 0   Reference                 10527 non-null  int64  \n",
            " 1   Year                      10527 non-null  int64  \n",
            " 2   Month                     10527 non-null  int64  \n",
            " 3   Day                       10527 non-null  int64  \n",
            " 4   Main_rd_no                10527 non-null  int64  \n",
            " 5   Speed_limit               10527 non-null  int64  \n",
            " 6   Pedestrian_1_Age          10527 non-null  int64  \n",
            " 7   Number_Vehicles           10527 non-null  int64  \n",
            " 8   Easting                   10527 non-null  float64\n",
            " 9   Northing                  10527 non-null  float64\n",
            " 10  Day.1                     10527 non-null  object \n",
            " 11  Time                      10527 non-null  object \n",
            " 12  Severity                  10527 non-null  object \n",
            " 13  Road_Class                10527 non-null  object \n",
            " 14  Junction Detail           10527 non-null  object \n",
            " 15  Light                     10527 non-null  object \n",
            " 16  Weather                   10527 non-null  object \n",
            " 17  Surface                   10527 non-null  object \n",
            " 18  Cycle                     10527 non-null  object \n",
            " 19  TWMV                      10527 non-null  object \n",
            " 20  Child                     10527 non-null  object \n",
            " 21  Child_Pedestrian          10527 non-null  object \n",
            " 22  Ped                       10527 non-null  object \n",
            " 23  Skid                      10527 non-null  object \n",
            " 24  HGV                       10527 non-null  object \n",
            " 25  LGV                       10527 non-null  object \n",
            " 26  PSV                       10527 non-null  object \n",
            " 27  School Journey            10527 non-null  object \n",
            " 28  Location                  10527 non-null  object \n",
            " 29  Vehicle_1_Type            10527 non-null  object \n",
            " 30  Vehicle_1_Manouvres       10527 non-null  object \n",
            " 31  Vehicle_1_From_Direction  10527 non-null  object \n",
            " 32  Vehicle_1_To_Direction    10527 non-null  object \n",
            " 33  Vehicle_1_Location        10527 non-null  object \n",
            " 34  Vehicle_1_Skidding        10527 non-null  object \n",
            " 35  Vehicle_2_Type            10527 non-null  object \n",
            " 36  Vehicle_2_Manouvres       10527 non-null  object \n",
            " 37  Vehicle_2_From_Direction  10527 non-null  object \n",
            " 38  Vehicle_2_To_Direction    10527 non-null  object \n",
            " 39  Vehicle_2_Location        10527 non-null  object \n",
            " 40  Vehicle_ 2_Skidding       10527 non-null  object \n",
            " 41  Vehicle_3_Type            10527 non-null  object \n",
            " 42  V3_Manouvres              10527 non-null  object \n",
            " 43  V3_From_Direction         10527 non-null  object \n",
            " 44  V3_To_Direction           10527 non-null  object \n",
            " 45  V3_Location               10527 non-null  object \n",
            " 46  V3_Skidding               10527 non-null  object \n",
            "dtypes: float64(2), int64(8), object(37)\n",
            "memory usage: 3.9+ MB\n"
          ],
          "name": "stdout"
        }
      ]
    },
    {
      "cell_type": "code",
      "metadata": {
        "id": "Y4wF3gcuxiSB",
        "colab": {
          "base_uri": "https://localhost:8080/",
          "height": 216
        },
        "outputId": "a9716aae-1179-4ba0-e59e-3cd6d6f6d621"
      },
      "source": [
        "data.head(2)"
      ],
      "execution_count": 24,
      "outputs": [
        {
          "output_type": "execute_result",
          "data": {
            "text/html": [
              "<div>\n",
              "<style scoped>\n",
              "    .dataframe tbody tr th:only-of-type {\n",
              "        vertical-align: middle;\n",
              "    }\n",
              "\n",
              "    .dataframe tbody tr th {\n",
              "        vertical-align: top;\n",
              "    }\n",
              "\n",
              "    .dataframe thead th {\n",
              "        text-align: right;\n",
              "    }\n",
              "</style>\n",
              "<table border=\"1\" class=\"dataframe\">\n",
              "  <thead>\n",
              "    <tr style=\"text-align: right;\">\n",
              "      <th></th>\n",
              "      <th>Reference</th>\n",
              "      <th>Year</th>\n",
              "      <th>Month</th>\n",
              "      <th>Day</th>\n",
              "      <th>Main_rd_no</th>\n",
              "      <th>Speed_limit</th>\n",
              "      <th>Pedestrian_1_Age</th>\n",
              "      <th>Number_Vehicles</th>\n",
              "      <th>Easting</th>\n",
              "      <th>Northing</th>\n",
              "      <th>Day.1</th>\n",
              "      <th>Time</th>\n",
              "      <th>Severity</th>\n",
              "      <th>Road_Class</th>\n",
              "      <th>Junction Detail</th>\n",
              "      <th>Light</th>\n",
              "      <th>Weather</th>\n",
              "      <th>Surface</th>\n",
              "      <th>Cycle</th>\n",
              "      <th>TWMV</th>\n",
              "      <th>Child</th>\n",
              "      <th>Child_Pedestrian</th>\n",
              "      <th>Ped</th>\n",
              "      <th>Skid</th>\n",
              "      <th>HGV</th>\n",
              "      <th>LGV</th>\n",
              "      <th>PSV</th>\n",
              "      <th>School Journey</th>\n",
              "      <th>Location</th>\n",
              "      <th>Vehicle_1_Type</th>\n",
              "      <th>Vehicle_1_Manouvres</th>\n",
              "      <th>Vehicle_1_From_Direction</th>\n",
              "      <th>Vehicle_1_To_Direction</th>\n",
              "      <th>Vehicle_1_Location</th>\n",
              "      <th>Vehicle_1_Skidding</th>\n",
              "      <th>Vehicle_2_Type</th>\n",
              "      <th>Vehicle_2_Manouvres</th>\n",
              "      <th>Vehicle_2_From_Direction</th>\n",
              "      <th>Vehicle_2_To_Direction</th>\n",
              "      <th>Vehicle_2_Location</th>\n",
              "      <th>Vehicle_ 2_Skidding</th>\n",
              "      <th>Vehicle_3_Type</th>\n",
              "      <th>V3_Manouvres</th>\n",
              "      <th>V3_From_Direction</th>\n",
              "      <th>V3_To_Direction</th>\n",
              "      <th>V3_Location</th>\n",
              "      <th>V3_Skidding</th>\n",
              "    </tr>\n",
              "  </thead>\n",
              "  <tbody>\n",
              "    <tr>\n",
              "      <th>0</th>\n",
              "      <td>2412</td>\n",
              "      <td>2012</td>\n",
              "      <td>1</td>\n",
              "      <td>3</td>\n",
              "      <td>1198</td>\n",
              "      <td>60</td>\n",
              "      <td>0</td>\n",
              "      <td>2</td>\n",
              "      <td>525250.3192</td>\n",
              "      <td>269592.7491</td>\n",
              "      <td>Tuesday</td>\n",
              "      <td>11:40:00</td>\n",
              "      <td>Slight</td>\n",
              "      <td>A</td>\n",
              "      <td>'T'/staggered junctn</td>\n",
              "      <td>Day</td>\n",
              "      <td>Raining &amp; windy</td>\n",
              "      <td>Wet/damp</td>\n",
              "      <td>N</td>\n",
              "      <td>N</td>\n",
              "      <td>N</td>\n",
              "      <td>N</td>\n",
              "      <td>N</td>\n",
              "      <td>Y</td>\n",
              "      <td>N</td>\n",
              "      <td>N</td>\n",
              "      <td>N</td>\n",
              "      <td>N</td>\n",
              "      <td>A1198 JUNCTION LONDON RD GODMANCHESTER</td>\n",
              "      <td>Car</td>\n",
              "      <td>Moving off</td>\n",
              "      <td>W</td>\n",
              "      <td>E</td>\n",
              "      <td>Entering main road</td>\n",
              "      <td>Did not skid</td>\n",
              "      <td>Car</td>\n",
              "      <td>Going ahead</td>\n",
              "      <td>SE</td>\n",
              "      <td>N</td>\n",
              "      <td>Approaching jnctn or waiting/parked</td>\n",
              "      <td>Skidded</td>\n",
              "      <td>Car</td>\n",
              "      <td>Slow or stopping</td>\n",
              "      <td>Parked</td>\n",
              "      <td>Parked</td>\n",
              "      <td>Not at,or within 20m of, junction</td>\n",
              "      <td>Did not skid</td>\n",
              "    </tr>\n",
              "    <tr>\n",
              "      <th>1</th>\n",
              "      <td>2612</td>\n",
              "      <td>2012</td>\n",
              "      <td>1</td>\n",
              "      <td>3</td>\n",
              "      <td>505</td>\n",
              "      <td>50</td>\n",
              "      <td>0</td>\n",
              "      <td>2</td>\n",
              "      <td>546715.1485</td>\n",
              "      <td>246747.0387</td>\n",
              "      <td>Tuesday</td>\n",
              "      <td>12:44:00</td>\n",
              "      <td>Slight</td>\n",
              "      <td>A</td>\n",
              "      <td>Not at junction</td>\n",
              "      <td>Day</td>\n",
              "      <td>Fine (no wind)</td>\n",
              "      <td>Wet/damp</td>\n",
              "      <td>N</td>\n",
              "      <td>N</td>\n",
              "      <td>N</td>\n",
              "      <td>N</td>\n",
              "      <td>N</td>\n",
              "      <td>N</td>\n",
              "      <td>Y</td>\n",
              "      <td>N</td>\n",
              "      <td>N</td>\n",
              "      <td>N</td>\n",
              "      <td>A505 50M EAST OF M11 AT LAYBY</td>\n",
              "      <td>Car</td>\n",
              "      <td>Going ahead</td>\n",
              "      <td>NE</td>\n",
              "      <td>SW</td>\n",
              "      <td>Not at,or within 20m of, junction</td>\n",
              "      <td>Did not skid</td>\n",
              "      <td>GV &gt;= 7.5t mgw</td>\n",
              "      <td>Parked</td>\n",
              "      <td>Parked</td>\n",
              "      <td>Parked</td>\n",
              "      <td>Not at,or within 20m of, junction</td>\n",
              "      <td>Did not skid</td>\n",
              "      <td>Car</td>\n",
              "      <td>Slow or stopping</td>\n",
              "      <td>Parked</td>\n",
              "      <td>Parked</td>\n",
              "      <td>Not at,or within 20m of, junction</td>\n",
              "      <td>Did not skid</td>\n",
              "    </tr>\n",
              "  </tbody>\n",
              "</table>\n",
              "</div>"
            ],
            "text/plain": [
              "   Reference  Year  ...                        V3_Location   V3_Skidding\n",
              "0       2412  2012  ...  Not at,or within 20m of, junction  Did not skid\n",
              "1       2612  2012  ...  Not at,or within 20m of, junction  Did not skid\n",
              "\n",
              "[2 rows x 47 columns]"
            ]
          },
          "metadata": {
            "tags": []
          },
          "execution_count": 24
        }
      ]
    },
    {
      "cell_type": "code",
      "metadata": {
        "colab": {
          "base_uri": "https://localhost:8080/"
        },
        "id": "RiyuOLYzCTYv",
        "outputId": "e23a1079-f760-4c41-a805-a3342fab7d5b"
      },
      "source": [
        "data.shape"
      ],
      "execution_count": 25,
      "outputs": [
        {
          "output_type": "execute_result",
          "data": {
            "text/plain": [
              "(10527, 47)"
            ]
          },
          "metadata": {
            "tags": []
          },
          "execution_count": 25
        }
      ]
    },
    {
      "cell_type": "markdown",
      "metadata": {
        "id": "Dijicg02SWcT"
      },
      "source": [
        "#**Phân tích dữ liệu**"
      ]
    },
    {
      "cell_type": "markdown",
      "metadata": {
        "id": "pAtiXSXQH0nN"
      },
      "source": [
        "## Loại hình tai nạn giao thông nào gây tổn thất nặng nề nhất?"
      ]
    },
    {
      "cell_type": "markdown",
      "metadata": {
        "id": "FwDqN1cLSCDS"
      },
      "source": [
        "**Khám phá các mức độ nghiêm trọng của các loại hình tai nạn giao thông:**"
      ]
    },
    {
      "cell_type": "code",
      "metadata": {
        "colab": {
          "base_uri": "https://localhost:8080/"
        },
        "id": "4XqByJ8XSWIZ",
        "outputId": "239146f9-11ea-409d-b87e-ddeb37469151"
      },
      "source": [
        "data[\"Severity\"].value_counts()"
      ],
      "execution_count": 35,
      "outputs": [
        {
          "output_type": "execute_result",
          "data": {
            "text/plain": [
              "Slight     8805\n",
              "Serious    1567\n",
              "Fatal       155\n",
              "Name: Severity, dtype: int64"
            ]
          },
          "metadata": {
            "tags": []
          },
          "execution_count": 35
        }
      ]
    },
    {
      "cell_type": "code",
      "metadata": {
        "colab": {
          "base_uri": "https://localhost:8080/",
          "height": 357
        },
        "id": "6b_lmR_IXU_j",
        "outputId": "2dd9c70e-794e-4cf7-cac3-cf86487729bc"
      },
      "source": [
        "data[\"Severity\"].value_counts().plot(kind=\"pie\",labels = None, legend='auto', figsize=(8,6), autopct=\"%.1f%%\");"
      ],
      "execution_count": 37,
      "outputs": [
        {
          "output_type": "display_data",
          "data": {
            "image/png": "[encoded data removed]",
            "text/plain": [
              "<Figure size 576x432 with 1 Axes>"
            ]
          },
          "metadata": {
            "tags": []
          }
        }
      ]
    },
    {
      "cell_type": "markdown",
      "metadata": {
        "id": "NbP-aM9cTwTI"
      },
      "source": [
        "Ta thấy rằng có 3 mức độ nghiệm trọng: Slight(nhẹ), Serious(nặng), Fatal (gây tử vong)\n",
        "-> Để xét loại hình tai nạn giao thông gây tổn thất nặng nề nhất, ta xét mức độ Fatal"
      ]
    },
    {
      "cell_type": "code",
      "metadata": {
        "id": "ZTkuxdi9TtP6"
      },
      "source": [
        "accident_fatal = data.loc[data[\"Severity\"] == 'Fatal',:]"
      ],
      "execution_count": 28,
      "outputs": []
    },
    {
      "cell_type": "markdown",
      "metadata": {
        "id": "j-XgWobMVBCv"
      },
      "source": [
        "**Ở mức độ nghiêm trọng gây tử vong, thường có bao nhiêu phương tiện tham gia?**"
      ]
    },
    {
      "cell_type": "code",
      "metadata": {
        "colab": {
          "base_uri": "https://localhost:8080/",
          "height": 294
        },
        "id": "1ceXtqTCHfWm",
        "outputId": "9931d918-6cc0-4be0-a29d-62377fa05952"
      },
      "source": [
        "accident_fatal.groupby('Number_Vehicles')[\"Severity\"].count().plot.bar()"
      ],
      "execution_count": 29,
      "outputs": [
        {
          "output_type": "execute_result",
          "data": {
            "text/plain": [
              "<matplotlib.axes._subplots.AxesSubplot at 0x7fe936023c10>"
            ]
          },
          "metadata": {
            "tags": []
          },
          "execution_count": 29
        },
        {
          "output_type": "display_data",
          "data": {
            "image/png": "[encoded data removed]",
            "text/plain": [
              "<Figure size 432x288 with 1 Axes>"
            ]
          },
          "metadata": {
            "tags": [],
            "needs_background": "light"
          }
        }
      ]
    },
    {
      "cell_type": "markdown",
      "metadata": {
        "id": "j5WIukZYWyEf"
      },
      "source": [
        "=> Ở mức độ tai nạn gây chết người, thường có 2 phương tiện tham gia."
      ]
    },
    {
      "cell_type": "code",
      "metadata": {
        "id": "5BCvAIPYQeIc"
      },
      "source": [
        ""
      ],
      "execution_count": 29,
      "outputs": []
    },
    {
      "cell_type": "markdown",
      "metadata": {
        "id": "pryL2CVJStD3"
      },
      "source": [
        "## Vùng xảy ra tai nạn giao thông thường xuyên nhất và đưa ra lý do"
      ]
    },
    {
      "cell_type": "code",
      "metadata": {
        "id": "4GhMjrYsTXaH"
      },
      "source": [
        ""
      ],
      "execution_count": 29,
      "outputs": []
    },
    {
      "cell_type": "markdown",
      "metadata": {
        "id": "9QzIexC6TYZt"
      },
      "source": [
        "## So sánh cách các khu vực đối phó với tai nạn giao thông"
      ]
    },
    {
      "cell_type": "code",
      "metadata": {
        "id": "RqOwTEcoTmW_"
      },
      "source": [
        ""
      ],
      "execution_count": 29,
      "outputs": []
    },
    {
      "cell_type": "markdown",
      "metadata": {
        "id": "prbJVctJTnDH"
      },
      "source": [
        "## Loại hình phương tiện nào thường xuyên gây tai nạn nhất"
      ]
    },
    {
      "cell_type": "markdown",
      "metadata": {
        "id": "MsMOVNGhTvE9"
      },
      "source": [
        "## Xu hướng tăng/giảm của số vụ tai nạn giao thông và dự đoán trong tương lai gần"
      ]
    },
    {
      "cell_type": "markdown",
      "metadata": {
        "id": "n5w6MXPHUTCB"
      },
      "source": [
        "## Gợi ý giải pháp giảm tai nạn giao thông và phân tích cụ thể hiệu quả của ước tính của giải pháp đó"
      ]
    },
    {
      "cell_type": "code",
      "metadata": {
        "colab": {
          "base_uri": "https://localhost:8080/"
        },
        "id": "JUK32DfTUboj",
        "outputId": "0f1c165d-c202-4250-ff3d-3b268e127ab8"
      },
      "source": [
        "data[\"Location\"].value_counts()"
      ],
      "execution_count": 39,
      "outputs": [
        {
          "output_type": "execute_result",
          "data": {
            "text/plain": [
              "PARK RD JUNCTION BURGHLEY RD PETERBOROUGH                7\n",
              "A1139 FLETTON PARKWAY PETERBOROUGH                       6\n",
              "A141 ISLE OF ELY WAY JUNCTION GAUL RD MARCH              5\n",
              "A1303 MADINGLEY RD JUNCTION STOREYS WAY CAMBRIDGE        5\n",
              "A1260 NENE PARKWAY PETERBOROUGH                          5\n",
              "                                                        ..\n",
              "C315 ELY RD 800M NORTH OF PYPENS HILL FARM LITTLEPORT    1\n",
              "A141 SPITTALS WAY 300M SW  STUKELY RD HUNTINGDON         1\n",
              "A1123 NEEDINGWORTH RD JUNCTION HARRISON WAY ST IVES      1\n",
              "OUTSIDE HOUSE NUMBER 27 MILL LANE DRAKE WAY              1\n",
              "SOKE PARKWAY A47 GRESLEY WAY                             1\n",
              "Name: Location, Length: 10126, dtype: int64"
            ]
          },
          "metadata": {
            "tags": []
          },
          "execution_count": 39
        }
      ]
    },
    {
      "cell_type": "code",
      "metadata": {
        "id": "yJKtmEOVhJuS"
      },
      "source": [
        ""
      ],
      "execution_count": null,
      "outputs": []
    }
  ]
}